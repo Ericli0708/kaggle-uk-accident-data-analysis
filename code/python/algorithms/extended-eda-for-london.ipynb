{
 "cells": [
  {
   "cell_type": "code",
   "execution_count": 1,
   "metadata": {},
   "outputs": [],
   "source": [
    "import pandas as pd\n",
    "import folium\n",
    "import sklearn.decomposition\n",
    "import json"
   ]
  },
  {
   "cell_type": "code",
   "execution_count": 3,
   "metadata": {},
   "outputs": [
    {
     "name": "stderr",
     "output_type": "stream",
     "text": [
      "/usr/local/lib/python3.5/dist-packages/IPython/core/interactiveshell.py:2698: DtypeWarning: Columns (31) have mixed types. Specify dtype option on import or set low_memory=False.\n",
      "  interactivity=interactivity, compiler=compiler, result=result)\n"
     ]
    }
   ],
   "source": [
    "data_folder = \"/media/sree/mars/data/road-accidents\"\n",
    "accidents_data_file11 = data_folder + \"/accidents_2009_to_2011.csv\"\n",
    "accidents_data_file14 = data_folder + \"/accidents_2012_to_2014.csv\"\n",
    "\n",
    "data1 = pd.read_csv(accidents_data_file11)\n",
    "data2 = pd.read_csv(accidents_data_file14)\n"
   ]
  },
  {
   "cell_type": "code",
   "execution_count": 4,
   "metadata": {},
   "outputs": [],
   "source": [
    "data = pd.concat([data1, data2])\n",
    "data['Month'] = data['Date'].apply(lambda x : str(x).split(\"/\")[1])\n",
    "\n",
    "## Lets isolate the accidents in one of the locations where accidents are the most common - London\n",
    "data[\"co-ordinates\"] = data.apply(lambda x: (x[\"Latitude\"], x[\"Longitude\"]), axis=1)\n",
    "data[\"long_imprecise\"] = data.apply(lambda x: str(x[\"Longitude\"])[:4], axis=1)\n",
    "data[\"lat_imprecise\"] = data.apply(lambda x: str(x[\"Latitude\"])[:4], axis=1)\n",
    "data[\"co-ord_imprecise\"] = data.apply(lambda x: (x[\"lat_imprecise\"], x[\"long_imprecise\"]), axis=1)\n",
    "\n",
    "unique_coordinates = pd.unique(data[\"co-ord_imprecise\"]).tolist()\n",
    "\n",
    "addresses = []\n",
    "\n",
    "## we have grabbed the address in address files\n",
    "for i in range(7):\n",
    "    filename = \"address_list_\" + str(i) \n",
    "\n",
    "    with open(filename,'r') as f:\n",
    "        s = f.read()\n",
    "        tmp = json.loads(s)\n",
    "        addresses.append(tmp)\n",
    "\n",
    "\n",
    "## address \n",
    "addresses_combined = [item for sublist in addresses for item in sublist]\n",
    "locations = {'co_ordinates':unique_coordinates,\n",
    "              'address' : addresses_combined }\n",
    "locations_df = pd.DataFrame(locations, columns=['co_ordinates','address'])\n"
   ]
  },
  {
   "cell_type": "code",
   "execution_count": 4,
   "metadata": {},
   "outputs": [],
   "source": [
    "data = pd.merge(data, locations_df, how='left', left_on='co-ord_imprecise', right_on='co_ordinates')\n",
    "\n",
    "## Attaching city\n",
    "def attach_city(x):\n",
    "    try:\n",
    "        return x[\"address\"][\"city\"]\n",
    "    except:\n",
    "        return \"Unknown\"\n",
    "\n",
    "data[\"city\"] = data.apply(lambda x: attach_city(x), axis=1)\n",
    "\n",
    "## Consider London\n",
    "data_london = data[data['city'] == 'London']\n",
    "\n"
   ]
  },
  {
   "cell_type": "code",
   "execution_count": 8,
   "metadata": {},
   "outputs": [
    {
     "name": "stdout",
     "output_type": "stream",
     "text": [
      "['One way street' 'Single carriageway' 'Dual carriageway' 'Roundabout'\n",
      " 'Slip road' 'Unknown']\n"
     ]
    }
   ],
   "source": [
    "road_types = pd.unique(data_london[\"Road_Type\"])\n",
    "print(road_types)"
   ]
  },
  {
   "cell_type": "code",
   "execution_count": 6,
   "metadata": {},
   "outputs": [
    {
     "data": {
      "text/plain": [
       "Road_Type\n",
       "Dual carriageway       17862\n",
       "One way street          3118\n",
       "Roundabout              6099\n",
       "Single carriageway    123640\n",
       "Slip road               1090\n",
       "Unknown                   50\n",
       "dtype: int64"
      ]
     },
     "execution_count": 6,
     "metadata": {},
     "output_type": "execute_result"
    }
   ],
   "source": [
    "data_london.groupby(['Road_Type']).size()"
   ]
  },
  {
   "cell_type": "code",
   "execution_count": 11,
   "metadata": {},
   "outputs": [
    {
     "data": {
      "text/plain": [
       "[None, None, None, None, None, None]"
      ]
     },
     "execution_count": 11,
     "metadata": {},
     "output_type": "execute_result"
    }
   ],
   "source": [
    "years = [2009, 2010, 2011, 2012, 2013, 2014]\n",
    "_data = []\n",
    "[_data.append(data_london[(data_london.Year == year)]) for year in range(2009, 2015)]\n"
   ]
  },
  {
   "cell_type": "code",
   "execution_count": 34,
   "metadata": {},
   "outputs": [
    {
     "name": "stdout",
     "output_type": "stream",
     "text": [
      "[[2925, 425, 841, 18518, 152, 15], [2874, 438, 1002, 19331, 163, 14], [2838, 503, 960, 19599, 163, 4], [3543, 570, 1333, 27199, 237, 6], [2806, 517, 890, 18217, 172, 5], [2876, 665, 1073, 20776, 203, 6]]\n"
     ]
    }
   ],
   "source": [
    "road_conditions = ['Dual carriageway','One way street', 'Roundabout', 'Single carriageway',\n",
    "                        'Slip road','Unknown']\n",
    "\n",
    "\n",
    "road_conditions_grouped_by_year = [_data[i].groupby(['Road_Type']).size().tolist() for i in range(len(_data))]\n",
    "ys = [[row[j] for row in road_conditions_grouped_by_year] for j in range(6)]\n",
    "\n",
    "print(road_conditions_grouped_by_year)"
   ]
  },
  {
   "cell_type": "code",
   "execution_count": 35,
   "metadata": {},
   "outputs": [],
   "source": [
    "items = pd.unique(data.Road_Type).tolist()\n",
    "width = 0.15\n",
    "pos = list(range(len(years)))"
   ]
  },
  {
   "cell_type": "code",
   "execution_count": 38,
   "metadata": {},
   "outputs": [
    {
     "data": {
      "image/png": "[encoded data removed]",
      "text/plain": [
       "<matplotlib.figure.Figure at 0x7fbaffa06cf8>"
      ]
     },
     "metadata": {},
     "output_type": "display_data"
    }
   ],
   "source": [
    "import matplotlib.pyplot as plt\n",
    "\n",
    "fig, ax = plt.subplots(figsize=(10,6))\n",
    "plt.bar(pos,ys[0], width, alpha=0.5, color='#9b2f29', label=items[0]) \n",
    "plt.bar([p + width for p in pos], ys[1],width, alpha=0.5, color='#EE3224', label=items[1]) \n",
    "plt.bar([p + width*2 for p in pos], ys[2], width, alpha=0.5, color='#F78F1E', label=items[2]) \n",
    "plt.bar([p + width*3 for p in pos], ys[3], width, alpha=0.5, color='#FFC222', label=items[3]) \n",
    "plt.bar([p + width*4 for p in pos], ys[4], width, alpha=0.5, color='#000000', label=items[4]) \n",
    "plt.bar([p + width*5 for p in pos], ys[5], width, alpha=0.5, color='#91645D', label=items[5]) \n",
    "\n",
    "ax.set_ylabel('Accident Count')\n",
    "ax.set_title('Accidents by road over the years')\n",
    "ax.set_xticks([p + 1 * width for p in pos])\n",
    "\n",
    "# Set the labels for the x ticks\n",
    "ax.set_xticklabels(years)\n",
    "\n",
    "# Setting the x-axis and y-axis limits\n",
    "plt.xlim(min(pos)-width, max(pos)+width*8)\n",
    "plt.ylim([0, max(ys[0] +  ys[1] + ys[2] + ys[3] + ys[4]) + 1000])\n",
    "\n",
    "plt.legend(road_conditions, loc='upper left')\n",
    "plt.grid()\n",
    "plt.show()\n"
   ]
  }
 ],
 "metadata": {
  "kernelspec": {
   "display_name": "Python 3",
   "language": "python",
   "name": "python3"
  },
  "language_info": {
   "codemirror_mode": {
    "name": "ipython",
    "version": 3
   },
   "file_extension": ".py",
   "mimetype": "text/x-python",
   "name": "python",
   "nbconvert_exporter": "python",
   "pygments_lexer": "ipython3",
   "version": "3.5.2"
  }
 },
 "nbformat": 4,
 "nbformat_minor": 2
}
